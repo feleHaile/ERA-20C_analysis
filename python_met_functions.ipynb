{
 "cells": [
  {
   "cell_type": "code",
   "execution_count": null,
   "metadata": {
    "collapsed": true
   },
   "outputs": [],
   "source": [
    "def f_to_c(tf):\n",
    "    return(5.0/9.0*(tf-32)) \n",
    "\n",
    "def sat_vap_pres(tc):\n",
    "    return(0.611*np.exp((17.27*tc/(237.3+tc)))\n",
    "\n",
    "def rel_hum(tc, tcd):\n",
    "    e = 6.11*10.0**(7.5*tdc/(237.7+tdc))\n",
    "    es = return(6.11*10.0**(7.5*tc/(237.7+tc)))\n",
    "    return(100.0*e/es)"
   ]
  }
 ],
 "metadata": {
  "kernelspec": {
   "display_name": "Python [Root]",
   "language": "python",
   "name": "Python [Root]"
  },
  "language_info": {
   "codemirror_mode": {
    "name": "ipython",
    "version": 3
   },
   "file_extension": ".py",
   "mimetype": "text/x-python",
   "name": "python",
   "nbconvert_exporter": "python",
   "pygments_lexer": "ipython3",
   "version": "3.5.0rc4"
  }
 },
 "nbformat": 4,
 "nbformat_minor": 0
}
