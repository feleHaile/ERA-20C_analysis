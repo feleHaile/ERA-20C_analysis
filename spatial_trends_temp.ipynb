{
 "cells": [
  {
   "cell_type": "code",
   "execution_count": 1,
   "metadata": {
    "collapsed": false
   },
   "outputs": [],
   "source": [
    "%matplotlib inline\n",
    "import xarray as xr\n",
    "import numpy as np\n",
    "import pandas as pd\n",
    "import seaborn as sns\n",
    "import matplotlib.pyplot as plt\n",
    "import netCDF4\n",
    "from scipy import stats\n",
    "import cartopy.crs as ccrs\n",
    "import cartopy.feature as cfeature\n",
    "import sys\n",
    "sys.path.append('/Users/gbromley/code/python_utilities/')\n",
    "from python_data_functions import extract_months"
   ]
  },
  {
   "cell_type": "code",
   "execution_count": 2,
   "metadata": {
    "collapsed": false
   },
   "outputs": [],
   "source": [
    "data_dir = '/Volumes/ATLAS/reanalysis/'\n",
    "nc_file = 'NA_2m_temp_1900-2010.nc'\n",
    "#months = pd.date_range('1900-01-01','2010-12-01',freq='MS')"
   ]
  },
  {
   "cell_type": "code",
   "execution_count": 3,
   "metadata": {
    "collapsed": false
   },
   "outputs": [],
   "source": [
    "#load nc file\n",
    "nc_data = xr.open_dataset(data_dir+nc_file)\n",
    "#extract data from netcdf structure\n",
    "t2m = nc_temp['t2m']"
   ]
  },
  {
   "cell_type": "code",
   "execution_count": 4,
   "metadata": {
    "collapsed": false
   },
   "outputs": [],
   "source": [
    "#label of time slice\n",
    "t_season='AMJ'\n",
    "#months to extract\n",
    "t_months=[4,5,6]\n",
    "#analysis time period\n",
    "start_year = '1970-01-01'\n",
    "end_year = '2010-12-01'\n",
    "#spatial extent of the analysis\n",
    "ext_e = -90\n",
    "ext_w = -120\n",
    "ext_n = 55\n",
    "ext_s = 30"
   ]
  },
  {
   "cell_type": "code",
   "execution_count": 5,
   "metadata": {
    "collapsed": false
   },
   "outputs": [],
   "source": [
    "#def extract_months(month):\n",
    "#    return (month >= 4) & (month <= 6)"
   ]
  },
  {
   "cell_type": "code",
   "execution_count": 7,
   "metadata": {
    "collapsed": false
   },
   "outputs": [],
   "source": [
    "#extract the time period we are interested in\n",
    "t2m_slice=t2m.sel(time=slice(start_year,end_year))\n",
    "#grab the months interested in\n",
    "t2m_months = t2m_slice.sel(time=extract_months(t2m_slice['time.month'],t_months[0],t_months[-1]))\n",
    "#create month averages\n",
    "t2m_months_avg = t2m_months.groupby('time.year').mean(dim='time')\n",
    "\n",
    "#extract the 30 yr climate normal times\n",
    "t2m_clim_30= t2m.sel(time=slice('1981-01-01','2010-12-01'))\n",
    "#grab the months\n",
    "t2m_clim_months_30 = t2m_clim_30.sel(time=extract_months(t2m_clim_30['time.month'],t_months[0],t_months[-1]))\n",
    "#create averages over months for climate normal\n",
    "t2m_clim_months_avg = t2m_clim_months_30.mean(dim='time')"
   ]
  },
  {
   "cell_type": "code",
   "execution_count": null,
   "metadata": {
    "collapsed": false
   },
   "outputs": [],
   "source": [
    ""
   ]
  },
  {
   "cell_type": "code",
   "execution_count": null,
   "metadata": {
    "collapsed": false
   },
   "outputs": [],
   "source": [
    "#create 2d structure to hold slope\n",
    "spatial_trend = t2m.isel(time=1).copy(deep=True)\n",
    "spatial_trend.name = 't2m_trend'\n",
    "spatial_trend.attrs['units'] = 'C per Decade'\n",
    "spatial_trend.attrs['long_name'] = '2 meter temperature trend'\n",
    "\n",
    "#create 2d structure to hold pvalues\n",
    "pvalues= t2m.isel(time=1).copy(deep=True)\n",
    "pvalues.name = 't2m_trend_pvalues'\n",
    "pvalues.attrs['units'] = 'pvalues'\n",
    "pvalues.attrs['long_name'] = '2 meter temperature trend pvalues'"
   ]
  },
  {
   "cell_type": "code",
   "execution_count": null,
   "metadata": {
    "collapsed": false
   },
   "outputs": [],
   "source": [
    ""
   ]
  },
  {
   "cell_type": "code",
   "execution_count": null,
   "metadata": {
    "collapsed": false
   },
   "outputs": [],
   "source": [
    ""
   ]
  },
  {
   "cell_type": "code",
   "execution_count": null,
   "metadata": {
    "collapsed": false
   },
   "outputs": [],
   "source": [
    ""
   ]
  },
  {
   "cell_type": "code",
   "execution_count": null,
   "metadata": {
    "collapsed": false
   },
   "outputs": [],
   "source": [
    "#calculate slope and pvalue for each grid point\n",
    "#replace with a map() call?\n",
    "for i in np.arange(0,len(t2m['latitude'])):\n",
    "    for j in np.arange(0,len(t2m['longitude'])):\n",
    "        series = t2m_months_avg[:,i,j]\n",
    "        anom = series-t2m_clim_months_avg[i,j]\n",
    "        slope, intercept, r_value, p_value, std_err = stats.linregress(np.arange(0,len(anom)),anom)\n",
    "        spatial_trend[i,j]=slope*10\n",
    "        pvalues[i,j]=p_value\n",
    "        #print(i)"
   ]
  },
  {
   "cell_type": "code",
   "execution_count": null,
   "metadata": {
    "collapsed": false
   },
   "outputs": [],
   "source": [
    "#spatial_trend.to_dataset().to_netcdf(data_dir+'spatial_trends_temp_'+t_season+'_'+start_year+'mtwb'+'.nc')"
   ]
  },
  {
   "cell_type": "code",
   "execution_count": null,
   "metadata": {
    "collapsed": false
   },
   "outputs": [],
   "source": [
    "fig, ax = plt.subplots();\n",
    "ax = plt.axes(projection=ccrs.AlbersEqualArea(central_longitude=-111.0,central_latitude=46.0,false_easting=0.0, false_northing=0.0, standard_parallels=(40.0, 50.0), globe=None))\n",
    "ax.set_global()\n",
    "test = spatial_trend.plot.pcolormesh(axes = ax, transform=ccrs.PlateCarree(),vmin=-1, vmax=1, cmap='RdBu_r')\n",
    "#ax = plt.axes(projection=ccrs.LambertConformal())\n",
    "\n",
    "ax.set_extent([ext_e, ext_w, ext_s, ext_n])\n",
    "states_provinces = cfeature.NaturalEarthFeature(\n",
    "    category='cultural',\n",
    "    name='admin_1_states_provinces_lines',\n",
    "    scale='50m',\n",
    "    facecolor='none')\n",
    "ax.add_feature(states_provinces, edgecolor='gray')\n",
    "ax.add_feature(cfeature.COASTLINE)\n",
    "ax.add_feature(cfeature.BORDERS)\n",
    "plt.title('Temperature Trend 1970-2010 '+t_season,fontsize=24)\n",
    "test.colorbar.set_label('Celcius / Decade',fontsize=18)\n",
    "test.colorbar.ax.tick_params(labelsize=14)\n",
    "fig.set_size_inches(13,7)\n",
    "fig.set_dpi=1200.0\n",
    "#plt.savefig('Temp_spatial_mtwb_'+t_season+'_1970.png')\n",
    "plt.show()"
   ]
  },
  {
   "cell_type": "code",
   "execution_count": null,
   "metadata": {
    "collapsed": false
   },
   "outputs": [],
   "source": [
    "anom_series = t2m_months_avg-t2m_clim_months_avg\n",
    "extent = anom_series.sel(latitude=np.arange(ext_s,ext_n,step=.5))\n",
    "extent = extent.sel(longitude=np.arange(ext_w+360,ext_e+360,step=.5))\n",
    "extent_series = extent.mean(dim=['latitude','longitude'])\n",
    "slope, intercept, r_value, p_value, std_err = stats.linregress(np.arange(0,len(extent_series)),extent_series.values)\n",
    "line = slope*np.arange(0,len(extent_series.values))+intercept\n",
    "\n",
    "\n",
    "\n",
    "fig, ax = plt.subplots();\n",
    "plt.scatter(extent_series['year'],extent_series.values, c=extent_series.values,vmin=-3,vmax=2,cmap='RdBu_r',s=30);\n",
    "#trend = ax.plot(anom['time'],line)\n",
    "base = np.zeros(len(extent_series.values))\n",
    "ax.plot(extent_series['year'],base,c='grey')\n",
    "ax.set_title('North America 2m Temperature Anomaly '+t_season+' 1970-2010')\n",
    "ax.set_xlabel('Year')\n",
    "ax.set_ylabel('Temp Anomaly [C]')\n",
    "trend = ax.plot(extent_series['year'],line)\n",
    "#fig.savefig('2m_temp_anom_'+t_season+'_na_sp_1970.png')"
   ]
  },
  {
   "cell_type": "code",
   "execution_count": null,
   "metadata": {
    "collapsed": false
   },
   "outputs": [],
   "source": [
    ""
   ]
  },
  {
   "cell_type": "code",
   "execution_count": null,
   "metadata": {
    "collapsed": false
   },
   "outputs": [],
   "source": [
    ""
   ]
  },
  {
   "cell_type": "code",
   "execution_count": null,
   "metadata": {
    "collapsed": true
   },
   "outputs": [],
   "source": [
    ""
   ]
  },
  {
   "cell_type": "code",
   "execution_count": null,
   "metadata": {
    "collapsed": true
   },
   "outputs": [],
   "source": [
    ""
   ]
  }
 ],
 "metadata": {
  "anaconda-cloud": {},
  "kernelspec": {
   "display_name": "Python [Root]",
   "language": "python",
   "name": "Python [Root]"
  },
  "language_info": {
   "codemirror_mode": {
    "name": "ipython",
    "version": 3.0
   },
   "file_extension": ".py",
   "mimetype": "text/x-python",
   "name": "python",
   "nbconvert_exporter": "python",
   "pygments_lexer": "ipython3",
   "version": "3.5.0rc4"
  }
 },
 "nbformat": 4,
 "nbformat_minor": 0
}